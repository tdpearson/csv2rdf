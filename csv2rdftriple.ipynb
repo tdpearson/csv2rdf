{
 "cells": [
  {
   "cell_type": "code",
   "execution_count": 21,
   "metadata": {},
   "outputs": [],
   "source": [
    "import yaml\n",
    "import rdflib\n",
    "import pandas as pd\n",
    "import re"
   ]
  },
  {
   "cell_type": "code",
   "execution_count": 14,
   "metadata": {},
   "outputs": [],
   "source": [
    "with open(\"map.yml\", \"r\") as f:\n",
    "    data = yaml.safe_load(f.read())"
   ]
  },
  {
   "cell_type": "code",
   "execution_count": 15,
   "metadata": {},
   "outputs": [],
   "source": [
    "g = rdflib.Graph()\n",
    "ns_lookup = {}\n",
    "\n",
    "for ns in data['namespaces']:\n",
    "    g.namespace_manager.bind(namespace=ns['uri'], prefix=ns['name'])\n",
    "    ns_lookup[ns['name']] = rdflib.Namespace(ns['uri'])\n"
   ]
  },
  {
   "cell_type": "code",
   "execution_count": 50,
   "metadata": {},
   "outputs": [],
   "source": [
    "def csv_to_graph(mappings, filename, graph):\n",
    "    if mappings:\n",
    "        for row in pd.read_csv(filename).to_dict(orient=\"records\"):\n",
    "            uriref = mappings.get('uriref')\n",
    "            if uriref:\n",
    "                identifier = rdflib.URIRef(row.get(uriref))\n",
    "            else:\n",
    "                identifier = rdflib.BNode()\n",
    "            for key, value in ((key, value) for key, value in mappings.items() if 'uriref' not in key):\n",
    "                ns, ns_attr = key.split(\".\")\n",
    "                if type(value) == list:\n",
    "                    for val in value:\n",
    "                        if not pd.isna(row[val]):\n",
    "                            '''\n",
    "                            There needs to be a test URI vs. string here, since URIs are supposed\n",
    "                            to be wrapped in brackets (<http://someuri.org>). This is currently not\n",
    "                            working as expected, but see below for proof of concept.\n",
    "                            ''' \n",
    "                            uri_test = re.search('^http', val)\n",
    "                            if (uri_test != None):\n",
    "                                graph.add( (identifier, ns_lookup[ns][ns+attr], rdflib.URIRef(row[val])) )\n",
    "                            else:\n",
    "                                graph.add( (identifier, ns_lookup[ns][ns_attr], rdflib.Literal(row[val])) )\n",
    "                else:\n",
    "                    if not pd.isna(row[value]):\n",
    "                        uri_test = re.search('^http', value)\n",
    "                        if (uri_test != None):\n",
    "                                graph.add( (identifier, ns_lookup[ns][ns+attr], rdflib.URIRef(row[value])) )\n",
    "                        else:\n",
    "                                graph.add( (identifier, ns_lookup[ns][ns_attr], rdflib.Literal(row[value])) )\n",
    "\n",
    "for data_file in data['mappings']:\n",
    "    filename = f\"data/{data_file}.csv\"\n",
    "    mappings = data['mappings'][data_file]\n",
    "    csv_to_graph(mappings, filename, g)\n"
   ]
  },
  {
   "cell_type": "code",
   "execution_count": 46,
   "metadata": {},
   "outputs": [],
   "source": [
    "g.serialize(destination='output/triple.txt', format='ntriples')"
   ]
  },
  {
   "cell_type": "code",
   "execution_count": 47,
   "metadata": {},
   "outputs": [
    {
     "name": "stdout",
     "output_type": "stream",
     "text": [
      "http://someurl.com\n"
     ]
    }
   ],
   "source": [
    "# Proof of concept for test. This searches the beginning of a string for 'http'.\n",
    "uri = 'http://someurl.com'\n",
    "x = re.search('^http', uri)\n",
    "if x != None:\n",
    "    print(string)\n",
    "else:\n",
    "    print('That is not a URI')"
   ]
  },
  {
   "cell_type": "code",
   "execution_count": 49,
   "metadata": {},
   "outputs": [
    {
     "name": "stdout",
     "output_type": "stream",
     "text": [
      "That is not a URI\n"
     ]
    }
   ],
   "source": [
    "not_uri = 'I am Sam. Sam I am.'\n",
    "x = re.search('^http', not_uri)\n",
    "if x != None:\n",
    "    print(string)\n",
    "else:\n",
    "    print('That is not a URI')"
   ]
  },
  {
   "cell_type": "code",
   "execution_count": null,
   "metadata": {},
   "outputs": [],
   "source": []
  }
 ],
 "metadata": {
  "kernelspec": {
   "display_name": "Python 3",
   "language": "python",
   "name": "python3"
  },
  "language_info": {
   "codemirror_mode": {
    "name": "ipython",
    "version": 3
   },
   "file_extension": ".py",
   "mimetype": "text/x-python",
   "name": "python",
   "nbconvert_exporter": "python",
   "pygments_lexer": "ipython3",
   "version": "3.6.9"
  }
 },
 "nbformat": 4,
 "nbformat_minor": 2
}
