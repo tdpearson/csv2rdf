{
 "cells": [
  {
   "cell_type": "code",
   "execution_count": 19,
   "metadata": {},
   "outputs": [],
   "source": [
    "import yaml\n",
    "import rdflib\n",
    "import pandas as pd"
   ]
  },
  {
   "cell_type": "code",
   "execution_count": 20,
   "metadata": {},
   "outputs": [
    {
     "data": {
      "text/plain": [
       "{'namespaces': [{'name': 'viaf', 'uri': 'https://viaf.org/'},\n",
       "  {'name': 'dll', 'uri': 'https://catalog.digitallatin.org/'},\n",
       "  {'name': 'madsrdf', 'uri': 'http://www.loc.gov/mads/rdf/v1#'},\n",
       "  {'name': 'foaf', 'uri': 'http://xmlns.com/foaf/0.1/'},\n",
       "  {'name': 'rdf', 'uri': 'http://www.w3.org/1999/02/22-rdf-syntax-ns#'},\n",
       "  {'name': 'rdfs', 'uri': 'http://www.w3.org/2000/01/rdf-schema#'}],\n",
       " 'mappings': {'author-authorities-export': {'uriref': 'DLL Page Link',\n",
       "   'foaf.name': ['Authorized Name',\n",
       "    'Author Name Native Language',\n",
       "    'Author Name Latin',\n",
       "    'Author Name English',\n",
       "    'Other Alternative Name Form(s)'],\n",
       "   'dll.id': 'DLL Identifier',\n",
       "   'dll.authorizedName': 'Authorized Name',\n",
       "   'dll.nativeLanguageName': 'Author Name Native Language',\n",
       "   'dll.latinName': 'Author Name Latin',\n",
       "   'dll.englishName': 'Author Name English'},\n",
       "  'dll-works-export': {'uriref': 'DLL Page Link'},\n",
       "  'dll-works-sorted-by-author-with-dll-number': {'uriref': 'DLL Page Link'},\n",
       "  'item-records-export': {'uriref': 'DLL Page Link'},\n",
       "  'web-pages-export': {'uriref': 'DLL Page Link'}}}"
      ]
     },
     "execution_count": 20,
     "metadata": {},
     "output_type": "execute_result"
    }
   ],
   "source": [
    "with open(\"map.yml\", \"r\") as f:\n",
    "    data = yaml.safe_load(f.read())\n",
    "data"
   ]
  },
  {
   "cell_type": "code",
   "execution_count": 21,
   "metadata": {},
   "outputs": [],
   "source": [
    "g = rdflib.Graph()\n",
    "ns_lookup = {}\n",
    "\n",
    "for ns in data['namespaces']:\n",
    "    g.namespace_manager.bind(namespace=ns['uri'], prefix=ns['name'])\n",
    "    ns_lookup[ns['name']] = rdflib.Namespace(ns['uri'])\n"
   ]
  },
  {
   "cell_type": "code",
   "execution_count": 23,
   "metadata": {},
   "outputs": [],
   "source": [
    "def csv_to_graph(mappings, filename, graph):\n",
    "    if mappings:\n",
    "        for row in pd.read_csv(filename).to_dict(orient=\"records\"):\n",
    "            uriref = mappings.get('uriref')\n",
    "            if uriref:\n",
    "                identifier = rdflib.URIRef(row.get(uriref))\n",
    "            else:\n",
    "                identifier = rdflib.BNode()\n",
    "            for key, value in ((key, value) for key, value in mappings.items() if 'uriref' not in key):\n",
    "                ns, ns_attr = key.split(\".\")\n",
    "                if type(value) == list:\n",
    "                    for val in value:\n",
    "                        if not pd.isna(row[val]):\n",
    "                            graph.add( (identifier, ns_lookup[ns][ns_attr], rdflib.Literal(row[val])) )\n",
    "                else:\n",
    "                    if not pd.isna(row[value]):\n",
    "                        graph.add( (identifier, ns_lookup[ns][ns_attr], rdflib.Literal(row[value])) )\n",
    "\n",
    "for data_file in data['mappings']:\n",
    "    filename = f\"data/{data_file}.csv\"\n",
    "    mappings = data['mappings'][data_file]\n",
    "    csv_to_graph(mappings, filename, g)\n"
   ]
  },
  {
   "cell_type": "code",
   "execution_count": 10,
   "metadata": {},
   "outputs": [],
   "source": [
    "g.serialize(destination='output/triple.txt', format='turtle')"
   ]
  },
  {
   "cell_type": "code",
   "execution_count": 34,
   "metadata": {},
   "outputs": [],
   "source": [
    "qres = g.query(\n",
    "    \"\"\"SELECT *\n",
    "       WHERE {\n",
    "          ?s ?p ?o .\n",
    "          FILTER(regex(?o, \"Hilarius Arelatensis\", \"i\"))\n",
    "       }\"\"\")"
   ]
  },
  {
   "cell_type": "code",
   "execution_count": 35,
   "metadata": {},
   "outputs": [
    {
     "name": "stdout",
     "output_type": "stream",
     "text": [
      "(rdflib.term.URIRef('http://xmlns.com/foaf/0.1/name'), rdflib.term.URIRef('https://catalog.digitallatin.org/dll-author/A4361'), rdflib.term.Literal('Pseudo-Hilarius Arelatensis/Hilarius Pictaviensis'))\n",
      "(rdflib.term.URIRef('https://catalog.digitallatin.org/latinName'), rdflib.term.URIRef('https://catalog.digitallatin.org/dll-author/A5137'), rdflib.term.Literal('Hilarius Arelatensis'))\n",
      "(rdflib.term.URIRef('https://catalog.digitallatin.org/latinName'), rdflib.term.URIRef('https://catalog.digitallatin.org/dll-author/A4361'), rdflib.term.Literal('Pseudo-Hilarius Arelatensis/Hilarius Pictaviensis'))\n",
      "(rdflib.term.URIRef('http://xmlns.com/foaf/0.1/name'), rdflib.term.URIRef('https://catalog.digitallatin.org/dll-author/A5137'), rdflib.term.Literal('Hilarius Arelatensis'))\n"
     ]
    }
   ],
   "source": [
    "for row in qres:\n",
    "    print(row)"
   ]
  },
  {
   "cell_type": "code",
   "execution_count": 33,
   "metadata": {},
   "outputs": [
    {
     "name": "stdout",
     "output_type": "stream",
     "text": [
      " * Serving Flask app \"__main__\" (lazy loading)\n",
      " * Environment: production\n",
      "   WARNING: Do not use the development server in a production environment.\n",
      "   Use a production WSGI server instead.\n",
      " * Debug mode: off\n"
     ]
    },
    {
     "name": "stderr",
     "output_type": "stream",
     "text": [
      " * Running on http://127.0.0.1:5000/ (Press CTRL+C to quit)\n",
      "127.0.0.1 - - [17/Dec/2019 16:09:26] \"POST /query HTTP/1.1\" 200 -\n"
     ]
    }
   ],
   "source": [
    "from flask import Flask, request\n",
    "from json import dumps\n",
    "app = Flask(__name__)\n",
    "\n",
    "@app.route('/query', methods=['POST'])\n",
    "def hello_world():\n",
    "    sparql_query = request.get_data()\n",
    "    query_results = g.query(sparql_query)\n",
    "    return dumps(list(query_results))\n",
    "\n",
    "if __name__ == '__main__':\n",
    "    app.run()"
   ]
  },
  {
   "cell_type": "code",
   "execution_count": null,
   "metadata": {},
   "outputs": [],
   "source": []
  }
 ],
 "metadata": {
  "kernelspec": {
   "display_name": "Python 3",
   "language": "python",
   "name": "python3"
  },
  "language_info": {
   "codemirror_mode": {
    "name": "ipython",
    "version": 3
   },
   "file_extension": ".py",
   "mimetype": "text/x-python",
   "name": "python",
   "nbconvert_exporter": "python",
   "pygments_lexer": "ipython3",
   "version": "3.7.3"
  }
 },
 "nbformat": 4,
 "nbformat_minor": 2
}
