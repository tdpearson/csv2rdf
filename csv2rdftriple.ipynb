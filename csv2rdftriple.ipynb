{
 "cells": [
  {
   "cell_type": "code",
   "execution_count": null,
   "metadata": {},
   "outputs": [],
   "source": [
    "import yaml\n",
    "import rdflib\n",
    "import pandas as pd"
   ]
  },
  {
   "cell_type": "code",
   "execution_count": null,
   "metadata": {},
   "outputs": [],
   "source": [
    "with open(\"map.yml\", \"r\") as f:\n",
    "    data = yaml.safe_load(f.read())"
   ]
  },
  {
   "cell_type": "code",
   "execution_count": null,
   "metadata": {},
   "outputs": [],
   "source": [
    "g = rdflib.Graph()\n",
    "ns_lookup = {}\n",
    "\n",
    "for ns in data['namespaces']:\n",
    "    g.namespace_manager.bind(namespace=ns['uri'], prefix=ns['name'])\n",
    "    ns_lookup[ns['name']] = rdflib.Namespace(ns['uri'])\n"
   ]
  },
  {
   "cell_type": "code",
   "execution_count": null,
   "metadata": {},
   "outputs": [],
   "source": [
    "def csv_to_graph(mappings, filename, graph):\n",
    "    if mappings:\n",
    "        for row in pd.read_csv(filename).to_dict(orient=\"records\"):\n",
    "            uriref = mappings.get('uriref')\n",
    "            if uriref:\n",
    "                identifier = rdflib.URIRef(row.get(uriref))\n",
    "            else:\n",
    "                identifier = rdflib.BNode()\n",
    "            for key, value in ((key, value) for key, value in mappings.items() if 'uriref' not in key):\n",
    "                ns, ns_attr = key.split(\".\")\n",
    "                if type(value) is list:\n",
    "                    for val in value:\n",
    "                        if not pd.isna(row[val]):\n",
    "                            graph.add( (identifier, ns_lookup[ns][ns_attr], rdflib.Literal(row[val])) )\n",
    "                elif type(value) is dict:\n",
    "                    sub_uriref = row[value.get('uriref')]\n",
    "                    if not pd.isna(sub_uriref):\n",
    "                        graph.add( (identifier, ns_lookup[ns][ns_attr], rdflib.URIRef(sub_uriref)) )\n",
    "                else:\n",
    "                    if not pd.isna(row[value]):\n",
    "                        graph.add( (identifier, ns_lookup[ns][ns_attr], rdflib.Literal(row[value])) )\n",
    "\n",
    "for data_file in data['mappings']:\n",
    "    filename = f\"data/{data_file}.csv\"\n",
    "    mappings = data['mappings'][data_file]\n",
    "    csv_to_graph(mappings, filename, g)\n"
   ]
  },
  {
   "cell_type": "code",
   "execution_count": null,
   "metadata": {},
   "outputs": [],
   "source": [
    "g.serialize(destination='output/triple.txt', format='turtle')"
   ]
  },
  {
   "cell_type": "code",
   "execution_count": null,
   "metadata": {},
   "outputs": [],
   "source": [
    "qres = g.query(\n",
    "    \"\"\"SELECT *\n",
    "       WHERE {\n",
    "          ?s ?p ?o .\n",
    "          FILTER(regex(?o, \"Hilarius Arelatensis\", \"i\"))\n",
    "       }\"\"\")"
   ]
  },
  {
   "cell_type": "code",
   "execution_count": null,
   "metadata": {},
   "outputs": [],
   "source": [
    "for row in qres:\n",
    "    print(row)"
   ]
  },
  {
   "cell_type": "code",
   "execution_count": null,
   "metadata": {},
   "outputs": [],
   "source": [
    "from flask import Flask, request\n",
    "from json import dumps\n",
    "app = Flask(__name__)\n",
    "\n",
    "@app.route('/query', methods=['POST'])\n",
    "def hello_world():\n",
    "    sparql_query = request.get_data()\n",
    "    query_results = g.query(sparql_query)\n",
    "    return dumps(list(query_results))\n",
    "\n",
    "if __name__ == '__main__':\n",
    "    app.run()"
   ]
  },
  {
   "cell_type": "code",
   "execution_count": null,
   "metadata": {},
   "outputs": [],
   "source": []
  }
 ],
 "metadata": {
  "kernelspec": {
   "display_name": "Python 3",
   "language": "python",
   "name": "python3"
  },
  "language_info": {
   "codemirror_mode": {
    "name": "ipython",
    "version": 3
   },
   "file_extension": ".py",
   "mimetype": "text/x-python",
   "name": "python",
   "nbconvert_exporter": "python",
   "pygments_lexer": "ipython3",
   "version": "3.7.3"
  }
 },
 "nbformat": 4,
 "nbformat_minor": 2
}
