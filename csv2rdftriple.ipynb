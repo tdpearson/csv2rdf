{
 "cells": [
  {
   "cell_type": "code",
   "execution_count": null,
   "metadata": {},
   "outputs": [],
   "source": [
    "import yaml\n",
    "import rdflib\n",
    "import pandas as pd"
   ]
  },
  {
   "cell_type": "code",
   "execution_count": null,
   "metadata": {},
   "outputs": [],
   "source": [
    "with open(\"map.yml\", \"r\") as f:\n",
    "    data = yaml.safe_load(f.read())"
   ]
  },
  {
   "cell_type": "code",
   "execution_count": null,
   "metadata": {},
   "outputs": [],
   "source": [
    "g = rdflib.Graph()\n",
    "ns_lookup = {}\n",
    "\n",
    "for ns in data['namespaces']:\n",
    "    g.namespace_manager.bind(namespace=ns['uri'], prefix=ns['name'])\n",
    "    ns_lookup[ns['name']] = rdflib.Namespace(ns['uri'])"
   ]
  },
  {
   "cell_type": "code",
   "execution_count": null,
   "metadata": {},
   "outputs": [],
   "source": [
    "def handle_list(row, value, graph, identifier, predicate):\n",
    "    for sub_value in value:\n",
    "        add_literal(row, sub_value, graph, identifier, predicate)\n",
    "\n",
    "\n",
    "def handle_dict(row, value, graph, identifier, predicate):\n",
    "    route = {\n",
    "        'uriref': add_uriref,\n",
    "        'multival': add_multival,\n",
    "    }\n",
    "    if len(value) > 1:\n",
    "        raise Exception(\"Only one sub node is supported\")\n",
    "    value_type = list(value.keys())[0]\n",
    "    route_func = route[value_type]\n",
    "    route_func(row, value[value_type], graph, identifier, predicate)\n",
    "    \n",
    "    \n",
    "def add_literal(row, value, graph, identifier, predicate):\n",
    "    if not pd.isna(row[value]):\n",
    "        graph.add( (identifier, predicate, rdflib.Literal(row[value])) )\n",
    "\n",
    "\n",
    "def add_uriref(row, value, graph, identifier, predicate):\n",
    "    if not pd.isna(row[value]):\n",
    "        graph.add( (identifier, predicate, rdflib.URIRef(row[value])) )\n",
    "\n",
    "\n",
    "def add_multival(row, value, graph, identifier, predicate):\n",
    "    node_type_lookup = {\n",
    "        'literal': rdflib.Literal,\n",
    "        'uriref': rdflib.URIRef,\n",
    "    }\n",
    "    fields = row[value['field']]\n",
    "    if not pd.isna(fields):\n",
    "        node_type = node_type_lookup[value['type']]\n",
    "        rdf_objects = [node_type(field.strip()) for field in fields.split(value.get('delimiter')) if field.strip()] # if delimiter is not set, this will split on spaces\n",
    "        for rdf_object in rdf_objects:\n",
    "            graph.add( (identifier, predicate, rdf_object) )\n",
    "        if len(rdf_objects) > 1:\n",
    "            collection = graph.collection(identifier)\n",
    "            collection += rdf_objects\n",
    "\n",
    "\n",
    "def get_node_type(row, mapping):\n",
    "    ''' get uriref node value or blank node '''\n",
    "    uriref = mapping.get('uriref')\n",
    "    if uriref:\n",
    "        return rdflib.URIRef(row.get(uriref)) \n",
    "    else:\n",
    "        return rdflib.BNode()\n",
    "    \n",
    "    \n",
    "def csv_to_graph(mappings, filename, graph):\n",
    "    route_by_type = {\n",
    "        list: handle_list,\n",
    "        dict: handle_dict,\n",
    "        str: add_literal,\n",
    "    }\n",
    "    if mappings:\n",
    "        for row in pd.read_csv(filename).to_dict(orient=\"records\"):\n",
    "            identifier = get_node_type(row, mappings)\n",
    "            for key, value in ((key, value) for key, value in mappings.items() if 'uriref' not in key):\n",
    "                ns, ns_attr = key.split(\".\")\n",
    "                predicate = ns_lookup[ns][ns_attr]\n",
    "                route_by_type[type(value)](row, value, graph, identifier, predicate)\n",
    "\n",
    "\n",
    "for data_file in data['mappings']:\n",
    "    filename = f\"data/{data_file}.csv\"\n",
    "    mappings = data['mappings'][data_file]\n",
    "    csv_to_graph(mappings, filename, g)\n"
   ]
  },
  {
   "cell_type": "code",
   "execution_count": null,
   "metadata": {},
   "outputs": [],
   "source": [
    "g.serialize(destination='output/triple.txt', format='trig')"
   ]
  },
  {
   "cell_type": "code",
   "execution_count": null,
   "metadata": {},
   "outputs": [],
   "source": [
    "query_result = g.query(\n",
    "    \"\"\"SELECT *\n",
    "       WHERE {\n",
    "          ?s ?p ?o .\n",
    "          FILTER(regex(?o, \"Hilarius Arelatensis\", \"i\"))\n",
    "       }\"\"\")\n",
    "\n",
    "for row in query_result:\n",
    "    print(row)"
   ]
  },
  {
   "cell_type": "code",
   "execution_count": null,
   "metadata": {},
   "outputs": [],
   "source": [
    "from flask import Flask, request\n",
    "from json import dumps\n",
    "app = Flask(__name__)\n",
    "\n",
    "@app.route('/query', methods=['POST'])\n",
    "def query_serve_example():\n",
    "    sparql_query = request.get_data()\n",
    "    query_results = g.query(sparql_query)\n",
    "    return dumps(list(query_results))\n",
    "\n",
    "if __name__ == '__main__':\n",
    "    app.run()"
   ]
  },
  {
   "cell_type": "code",
   "execution_count": null,
   "metadata": {},
   "outputs": [],
   "source": []
  }
 ],
 "metadata": {
  "kernelspec": {
   "display_name": "Python 3",
   "language": "python",
   "name": "python3"
  },
  "language_info": {
   "codemirror_mode": {
    "name": "ipython",
    "version": 3
   },
   "file_extension": ".py",
   "mimetype": "text/x-python",
   "name": "python",
   "nbconvert_exporter": "python",
   "pygments_lexer": "ipython3",
   "version": "3.7.3"
  }
 },
 "nbformat": 4,
 "nbformat_minor": 2
}
